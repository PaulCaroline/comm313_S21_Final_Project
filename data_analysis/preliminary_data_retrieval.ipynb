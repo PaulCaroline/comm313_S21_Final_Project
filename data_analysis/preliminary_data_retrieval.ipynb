{
 "cells": [
  {
   "cell_type": "code",
   "execution_count": 1,
   "metadata": {},
   "outputs": [],
   "source": [
    "# Import modules\n",
    "import snscrape.modules.twitter as sntwitter\n",
    "\n",
    "import json\n",
    "import os\n",
    "import datetime"
   ]
  },
  {
   "cell_type": "markdown",
   "metadata": {},
   "source": [
    "## Collecting tweets matching a query during a specific time range"
   ]
  },
  {
   "cell_type": "code",
   "execution_count": 2,
   "metadata": {},
   "outputs": [],
   "source": [
    "def download_query_tweets(query, date_since, date_until, max=1000):\n",
    "    print(f\"Downloading tweets for query: '{query}' from {date_since} to {date_until} (max of {max})\")\n",
    "\n",
    "    tweet_list = []\n",
    "    \n",
    "    query = f'{query} since:{date_since} until:{date_until}'\n",
    "    \n",
    "    for i,tweet in enumerate(sntwitter.TwitterSearchScraper(query).get_items()):\n",
    "        if i>=max:\n",
    "            break\n",
    "    \n",
    "\n",
    "        tweet_dict = {\n",
    "            'id': tweet.id,\n",
    "            'created_at': tweet.date.strftime('%Y-%m-%d %H:%M'),\n",
    "            'text': tweet.content,\n",
    "            'username': tweet.username\n",
    "        }\n",
    "\n",
    "        tweet_list.append(tweet_dict)\n",
    "        \n",
    "    return tweet_list"
   ]
  },
  {
   "cell_type": "markdown",
   "metadata": {},
   "source": [
    "## Nailing Down Time Points\n",
    "https://www.ajmc.com/view/a-timeline-of-covid19-developments-in-2020  \n",
    "The link above has a timeline of COVID-19 events throughtout the year, since the onset of the pandemic.  \n",
    "\n",
    "Here is another link with similar information about H1N1:  \n",
    "https://www.cdc.gov/flu/pandemic-resources/2009-pandemic-timeline.html"
   ]
  },
  {
   "cell_type": "code",
   "execution_count": 3,
   "metadata": {},
   "outputs": [
    {
     "name": "stdout",
     "output_type": "stream",
     "text": [
      "Downloading tweets for query: '#sb277' from 2015-01-01 to 2016-01-01 (max of 1000)\n",
      "\t retrieved 1000 tweets...\n",
      "\n",
      "Downloading tweets for query: '#cdcwhistleblower' from 2015-01-01 to 2016-01-01 (max of 1000)\n",
      "\t retrieved 1000 tweets...\n",
      "\n",
      "Downloading tweets for query: '#vaccineswork' from 2015-01-01 to 2016-01-01 (max of 1000)\n",
      "\t retrieved 1000 tweets...\n",
      "\n",
      "Downloading tweets for query: '#antivaccine' from 2015-01-01 to 2016-01-01 (max of 1000)\n",
      "\t retrieved 1000 tweets...\n",
      "\n",
      "Downloading tweets for query: '#antivax' from 2015-01-01 to 2016-01-01 (max of 1000)\n",
      "\t retrieved 1000 tweets...\n",
      "\n",
      "Downloading tweets for query: '#vaxxed' from 2015-01-01 to 2016-01-01 (max of 1000)\n",
      "\t retrieved 13 tweets...\n",
      "\n",
      "Downloading tweets for query: '#vaccines' from 2015-01-01 to 2016-01-01 (max of 1000)\n",
      "\t retrieved 1000 tweets...\n",
      "\n"
     ]
    }
   ],
   "source": [
    "DATA_DIR = 'data/pre_covid'\n",
    "\n",
    "if not os.path.exists(DATA_DIR):\n",
    "    os.makedirs(DATA_DIR)\n",
    "\n",
    "since = \"2015-01-01\" # TODO: change these to reflect whatever date range you want to do\n",
    "until = \"2016-01-01\"\n",
    "queries = [ '#sb277', \"#cdcwhistleblower\", '#vaccineswork', '#antivaccine', '#antivax', '#vaxxed', '#vaccines'] \n",
    "\n",
    "for query in queries:\n",
    "    tweet_list = download_query_tweets(query, since, until)\n",
    "    \n",
    "    outfilename = \"{}/{}_{}_to_{}.json\".format(DATA_DIR, query.replace(' ','_'), since, until)\n",
    "    \n",
    "    print('\\t retrieved {} tweets...\\n'.format(len(tweet_list)))\n",
    "    with open(outfilename,'w') as out:\n",
    "        out.write(json.dumps(tweet_list))"
   ]
  },
  {
   "cell_type": "code",
   "execution_count": null,
   "metadata": {},
   "outputs": [],
   "source": []
  }
 ],
 "metadata": {
  "kernelspec": {
   "display_name": "Python 3",
   "language": "python",
   "name": "python3"
  },
  "language_info": {
   "codemirror_mode": {
    "name": "ipython",
    "version": 3
   },
   "file_extension": ".py",
   "mimetype": "text/x-python",
   "name": "python",
   "nbconvert_exporter": "python",
   "pygments_lexer": "ipython3",
   "version": "3.7.4"
  }
 },
 "nbformat": 4,
 "nbformat_minor": 2
}
