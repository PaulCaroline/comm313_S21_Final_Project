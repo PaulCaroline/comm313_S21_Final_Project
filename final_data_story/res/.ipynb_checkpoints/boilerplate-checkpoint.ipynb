{
 "cells": [
  {
   "cell_type": "markdown",
   "metadata": {},
   "source": [
    "# Boilerplate Code for Final Blog\n",
    "*Similar to the the `functions.ipynb` file, this notebook is meant to consolidate the long blocks of code to be ran in the background so that they do not obscure what is presented in the blog text.*"
   ]
  },
  {
   "cell_type": "code",
   "execution_count": null,
   "metadata": {},
   "outputs": [],
   "source": [
    "# Import libraries\n",
    "import os\n",
    "import json\n",
    "from nltk.tokenize import TweetTokenizer\n",
    "from collections import Counter\n",
    "import pandas as pd\n",
    "import numpy as np\n",
    "import matplotlib.pyplot as plt\n",
    "from random import sample\n",
    "from nltk.sentiment.vader import SentimentIntensityAnalyzer"
   ]
  },
  {
   "cell_type": "code",
   "execution_count": null,
   "metadata": {},
   "outputs": [],
   "source": [
    "# Execute function definitions for later use\n",
    "%run ../data_analysis/functions.ipynb"
   ]
  },
  {
   "cell_type": "code",
   "execution_count": null,
   "metadata": {},
   "outputs": [],
   "source": [
    "# DATA PROCESSING STEPS\n",
    "\n",
    "# Read in Tweet data and create two lists of dictionairies\n",
    "pre_covid_tweets = []\n",
    "post_covid_tweets = []\n",
    "summary = []\n",
    "\n",
    "# Handle pre-covid data\n",
    "for filename in os.listdir('../../data/pre_covid'):\n",
    "    try:\n",
    "        json_string = open(f'../../data/pre_covid/{filename}').read()\n",
    "        tweets = json.loads(json_string)\n",
    "        summary.append(('pre', len(tweets), filename.split('_')[0]))\n",
    "        pre_covid_tweets.extend(tweets)\n",
    "    except:\n",
    "        print(f'Error reading {filename}')\n",
    "        continue   \n",
    "        \n",
    "# Handle post-covid data\n",
    "for filename in os.listdir('../../data/post_covid'):\n",
    "    try:\n",
    "        json_string = open(f'../../data/post_covid/{filename}').read()\n",
    "        tweets = json.loads(json_string)\n",
    "        summary.append(('post', len(tweets), filename.split('_')[0]))\n",
    "        post_covid_tweets.extend(tweets)\n",
    "    except:\n",
    "        print(f'Error reading {filename}')\n",
    "        continue \n",
    "        \n",
    "# Remove some tweets to maintain consistent sample sizes\n",
    "try:\n",
    "    pre_covid_tweets = sample(pre_covid_tweets, len(post_covid_tweets))\n",
    "except:\n",
    "    post_covid_tweets = sample(post_covid_tweets, len(pre_covid_tweets))\n",
    "    "
   ]
  },
  {
   "cell_type": "code",
   "execution_count": null,
   "metadata": {},
   "outputs": [],
   "source": [
    "# TEXT NORMALIZATION STEPS\n",
    "\n",
    "tt = TweetTokenizer()\n",
    "\n",
    "# Tokenize the Tweets to generate frequency lists\n",
    "pre_toks = []\n",
    "post_toks = []\n",
    "\n",
    "# Handle pre-covid tweets\n",
    "for tweet in pre_covid_tweets:\n",
    "    t = tweet['text']\n",
    "    pre_toks.extend(tt.tokenize(t))\n",
    "    \n",
    "# Handle post-covid tweets\n",
    "for tweet in post_covid_tweets:\n",
    "    t = tweet['text']\n",
    "    post_toks.extend(tt.tokenize(t))\n",
    "\n",
    "pre_dist = Counter(pre_toks)\n",
    "post_dist = Counter(post_toks)"
   ]
  },
  {
   "cell_type": "code",
   "execution_count": 2,
   "metadata": {},
   "outputs": [],
   "source": [
    "def plot_keywords():\n",
    "    keyness_df = calculate_keyness(pre_dist, post_dist, print_table=False, top=-1, keyness_threshold=-100000)\n",
    "    plot_keyitems(keyness_df, 20,\n",
    "              corpusA='Pre-COVID Tweets', \n",
    "              corpusB='Post-COVID Tweets')"
   ]
  },
  {
   "cell_type": "code",
   "execution_count": null,
   "metadata": {},
   "outputs": [],
   "source": []
  }
 ],
 "metadata": {
  "kernelspec": {
   "display_name": "Python 3",
   "language": "python",
   "name": "python3"
  },
  "language_info": {
   "codemirror_mode": {
    "name": "ipython",
    "version": 3
   },
   "file_extension": ".py",
   "mimetype": "text/x-python",
   "name": "python",
   "nbconvert_exporter": "python",
   "pygments_lexer": "ipython3",
   "version": "3.7.4"
  }
 },
 "nbformat": 4,
 "nbformat_minor": 2
}
