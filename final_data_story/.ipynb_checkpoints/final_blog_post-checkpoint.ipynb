{
 "cells": [
  {
   "cell_type": "markdown",
   "metadata": {},
   "source": [
    "# Vaccines, COVID & The Cure for Mistrust: Linguistic Analysis of Anti-vax on Social Media\n",
    "*By: Paul Caroline*\n",
    "\n",
    "<img src=\"res/bird_mask.jpg\" alt=\"Logo\" width=\"600\">\n"
   ]
  },
  {
   "cell_type": "markdown",
   "metadata": {},
   "source": [
    "## Introduction 🚪\n",
    "The ongoing COVID-19 pandemic has, in many ways, come as a day of reckoning for the people of the United States. Poltical polarization, social upheaval, and widespread uncertainty has affected many in unprecedented ways. Perhaps many months of quarantine and lockdowns haas driven millions of Americans deeper into their own circles of digital media influence. The first 100 million doses of the COVID-19 vaccine have already been administered, and there are nonetheless, a variety of sentiments concerning its, efficacy and safety, as well as the motives of its creators. As the conversation unfolds against the backdrop of this historical time, it is clear that there is much to learn about the people of the U.S., and about the dynamics of trust amid a crisis.\n",
    "\n",
    "## Covering the Conversation 💬  \n",
    "There is a tremendous amount of potential in modern micro-blogging. Short-form content created by millions of users enables the analysis of large corpora of human language in real time. This study, therefore, aims to gauge the state of the anti-vaccination movement by analyzing data that has been scraped from Twitter."
   ]
  },
  {
   "cell_type": "code",
   "execution_count": null,
   "metadata": {},
   "outputs": [],
   "source": []
  }
 ],
 "metadata": {
  "kernelspec": {
   "display_name": "Python 3",
   "language": "python",
   "name": "python3"
  },
  "language_info": {
   "codemirror_mode": {
    "name": "ipython",
    "version": 3
   },
   "file_extension": ".py",
   "mimetype": "text/x-python",
   "name": "python",
   "nbconvert_exporter": "python",
   "pygments_lexer": "ipython3",
   "version": "3.7.4"
  }
 },
 "nbformat": 4,
 "nbformat_minor": 2
}
